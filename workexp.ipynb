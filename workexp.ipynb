{
 "cells": [
  {
   "cell_type": "code",
   "execution_count": 1,
   "metadata": {
    "collapsed": true
   },
   "outputs": [],
   "source": [
    "import numpy as np\n",
    "import pandas as pd\n",
    "from pandas import Series, DataFrame"
   ]
  },
  {
   "cell_type": "code",
   "execution_count": 13,
   "metadata": {},
   "outputs": [
    {
     "name": "stdout",
     "output_type": "stream",
     "text": [
      "\n",
      "\n",
      "WORK EXPERIENCE\n",
      "Have you had any work experience: Yes/No\n",
      "yes\n",
      "Enter position, name of organisation, year spent\n",
      "(use fullstop '.' to separate the jobs if there are more than one):\n",
      "Internship Student\n",
      "Enter name of organisationHarmony Advanced Diagnostic Centre\n",
      "Total Years of Experience:\n",
      "3months\n",
      "Write your work summary here:\n",
      "i worked with the radiographers to know how to work operate some biomedical engineering equipments(like: MRI, CT Scan, X-rays, Fluoroscopy) to view the internal organs of the body for diagnosis\n",
      "\n",
      "Top Achievements:(optional)\n",
      "(use a comma ',' to separate your achievements):\n",
      "operating some biomedical equipments\n",
      "                                Job                Name of Organisation  \\\n",
      "worl experience  Internship Student  Harmony Advanced Diagnostic Centre   \n",
      "\n",
      "                Year of Experience  \\\n",
      "worl experience            3months   \n",
      "\n",
      "                                                           Summary  \\\n",
      "worl experience  i worked with the radiographers to know how to...   \n",
      "\n",
      "                                      Top Achievement Objective  \n",
      "worl experience  operating some biomedical equipments       NaN  \n"
     ]
    }
   ],
   "source": [
    "\n",
    "d = {}\n",
    "\n",
    "print(\"\\n\\nWORK EXPERIENCE\")\n",
    "wrk = input(\"Have you had any work experience: Yes/No\\n\")\n",
    "if wrk == \"yes\" and \"Yes\":\n",
    "    job = (input(\"Enter position, name of organisation, year spent\\n(use fullstop '.' to separate the jobs if there are more than one):\\n\").split(\". \"))\n",
    "    name_org = input(\"Enter name of organisation\")\n",
    "    yr_exp = input(\"Total Years of Experience:\\n\")\n",
    "    summary = input(\"Write your work summary here:\\n\")\n",
    "    tp_ach = (input(\"\\nTop Achievements:(optional)\\n(use a comma ',' to separate your achievements):\\n\").split(\", \"))\n",
    "\n",
    "else:\n",
    "    objective = input(\"\\nWrite your work objective here:\\n\")\n",
    "d['Job'] = job\n",
    "d['Name of Organisation'] = name_org\n",
    "d['Year of Experience'] = yr_exp\n",
    "d['Summary'] = summary\n",
    "d['Top Achievement'] = tp_ach\n",
    "#d['Objective'] = objective\n",
    "\n",
    "\n",
    "#d['LAST NAME'] = lname\n",
    "#d['FIRST NAME'] = fname\n",
    "#d['TELEPHONE'] = Tel\n",
    "#d['LOCATION'] = location\n",
    "#d['EMAIL'] = email\n",
    "\n",
    "#stt = ['FIRST NAME', 'LAST NAME', 'LOCATION', 'EMAIL', 'TELEPHONE']\n",
    "#tt = pd.Series(d, index=stt)\n",
    "#tt.to_csv(tt.csv)\n",
    "#frame = pd.DataFrame(d, index=[1])\n",
    "#frame.to_csv('abdulbaqqi_personal_information.csv')\n",
    "#print(tt)\n",
    "\n",
    "frame = pd.DataFrame(d, columns=['Job', 'Name of Organisation', 'Year of Experience', 'Summary', 'Top Achievement', 'Objective'],index=['worl experience'] )\n",
    "frame.to_csv('abdulbaqqi_work_experience.csv')\n",
    "print(frame)\n"
   ]
  },
  {
   "cell_type": "code",
   "execution_count": null,
   "metadata": {},
   "outputs": [],
   "source": []
  },
  {
   "cell_type": "code",
   "execution_count": null,
   "metadata": {
    "collapsed": true
   },
   "outputs": [],
   "source": []
  }
 ],
 "metadata": {
  "kernelspec": {
   "display_name": "Python 3",
   "language": "python",
   "name": "python3"
  },
  "language_info": {
   "codemirror_mode": {
    "name": "ipython",
    "version": 3
   },
   "file_extension": ".py",
   "mimetype": "text/x-python",
   "name": "python",
   "nbconvert_exporter": "python",
   "pygments_lexer": "ipython3",
   "version": "3.6.3"
  }
 },
 "nbformat": 4,
 "nbformat_minor": 2
}
