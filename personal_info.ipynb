{
 "cells": [
  {
   "cell_type": "code",
   "execution_count": 1,
   "metadata": {
    "collapsed": true
   },
   "outputs": [],
   "source": [
    "import numpy as np\n",
    "import pandas as pd\n",
    "from pandas import Series, DataFrame"
   ]
  },
  {
   "cell_type": "code",
   "execution_count": 16,
   "metadata": {},
   "outputs": [
    {
     "name": "stdout",
     "output_type": "stream",
     "text": [
      "MY RESUME\n",
      "\n",
      "Please fill in your correct details below\n",
      "\n",
      "Read the instructions given before answering\n",
      "\n",
      "PERSONAL INFORMATION\n",
      "FIRST NAME                                abdulbaki\n",
      "LAST NAME                                    salawu\n",
      "LOCATION      olawale yahaya bagaruwa street ilorin\n",
      "EMAIL                     salawuabdulbaki@gmail.com\n",
      "TELEPHONE                               09068924442\n",
      "dtype: object\n"
     ]
    }
   ],
   "source": [
    "\n",
    "d = {}\n",
    "\n",
    "print(\"MY RESUME\")\n",
    "print(\"\\nPlease fill in your correct details below\")\n",
    "print(\"\\nRead the instructions given before answering\\n\")\n",
    "print(\"PERSONAL INFORMATION\")\n",
    "#lname = input(\"Last name:  \")\n",
    "#fname = input(\"First name:  \")\n",
    "#Tel = input(\"Phone number:  \")\n",
    "#location = input(\"Location:  \")\n",
    "#email = input(\"E-mail:  \")\n",
    "d['LAST NAME'] = lname\n",
    "d['FIRST NAME'] = fname\n",
    "d['TELEPHONE'] = Tel\n",
    "d['LOCATION'] = location\n",
    "d['EMAIL'] = email\n",
    "\n",
    "#stt = ['FIRST NAME', 'LAST NAME', 'LOCATION', 'EMAIL', 'TELEPHONE']\n",
    "#tt = pd.Series(d, index=stt)\n",
    "#tt.to_csv(tt.csv)\n",
    "frame = pd.DataFrame(d, index=[1])\n",
    "frame.to_csv('abdulbaqqi_personal_information.csv')\n",
    "print(tt)\n"
   ]
  },
  {
   "cell_type": "code",
   "execution_count": null,
   "metadata": {
    "collapsed": true
   },
   "outputs": [],
   "source": []
  }
 ],
 "metadata": {
  "kernelspec": {
   "display_name": "Python 3",
   "language": "python",
   "name": "python3"
  },
  "language_info": {
   "codemirror_mode": {
    "name": "ipython",
    "version": 3
   },
   "file_extension": ".py",
   "mimetype": "text/x-python",
   "name": "python",
   "nbconvert_exporter": "python",
   "pygments_lexer": "ipython3",
   "version": "3.6.3"
  }
 },
 "nbformat": 4,
 "nbformat_minor": 2
}
