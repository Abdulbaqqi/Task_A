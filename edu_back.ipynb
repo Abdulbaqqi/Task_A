{
 "cells": [
  {
   "cell_type": "code",
   "execution_count": 3,
   "metadata": {
    "collapsed": true
   },
   "outputs": [],
   "source": [
    "import numpy as np\n",
    "import pandas as pd\n",
    "from pandas import Series, DataFrame"
   ]
  },
  {
   "cell_type": "code",
   "execution_count": 31,
   "metadata": {},
   "outputs": [
    {
     "name": "stdout",
     "output_type": "stream",
     "text": [
      "\n",
      "\n",
      "EDUCATIONAL BACKGROUND\n",
      "Enter degree of program: Bachelor's in Engineering\n",
      "Program name: Biomedical Engineering\n",
      "Name of School: University of Ilorin\n",
      "Year of Admission: 2016\n",
      "Year of Graduation:2021\n",
      "Do you have another Educational Background? Yes/No:no\n",
      "                      Degree of Program            Program Name  \\\n",
      "Background 1  Bachelor's in Engineering  Biomedical Engineering   \n",
      "\n",
      "                    Name of School Year of Admission Year of Graduation  \n",
      "Background 1  University of Ilorin              2016               2021  \n"
     ]
    }
   ],
   "source": [
    "\n",
    "d = {}\n",
    "\n",
    "print(\"\\n\\nEDUCATIONAL BACKGROUND\")\n",
    "#ED =[]\n",
    "deg = input(\"Enter degree of program: \")\n",
    "#ED.append(deg)\n",
    "pname = input(\"Program name: \")\n",
    "#ED.append(pname)\n",
    "uname = input(\"Name of School: \")\n",
    "#ED.append(uname)\n",
    "year1 = input(\"Year of Admission: \")\n",
    "#ED.append(year1)\n",
    "year2 = input(\"Year of Graduation:\")\n",
    "#ED.append(year2)\n",
    "d['Degree of Program'] = deg\n",
    "d['Program Name'] = pname\n",
    "d['Name of School'] = uname\n",
    "d['Year of Admission'] = year1\n",
    "d['Year of Graduation'] = year2\n",
    "anot = True\n",
    "while anot:\n",
    "        ask = input(\"Do you have another Educational Background? Yes/No:\")\n",
    "        if ask == \"yes\" and \"Yes\":\n",
    "                deg = input(\"Enter degree of program: \")\n",
    "                ED.append(deg)\n",
    "                pname = input(\"Program name: \")\n",
    "                ED.append(pname)\n",
    "                uname = input(\"Name of School: \")\n",
    "                ED.append(uname)\n",
    "                year1 = input(\"Year of Admission: \")\n",
    "                ED.append(year1)\n",
    "                year2 = input(\"Year of Graduation:\")\n",
    "                ED.append(year2)\n",
    "        else: break\n",
    "#d['LAST NAME'] = lname\n",
    "#d['FIRST NAME'] = fname\n",
    "#d['TELEPHONE'] = Tel\n",
    "#d['LOCATION'] = location\n",
    "#d['EMAIL'] = email\n",
    "\n",
    "#stt = ['FIRST NAME', 'LAST NAME', 'LOCATION', 'EMAIL', 'TELEPHONE']\n",
    "#tt = pd.Series(d, index=stt)\n",
    "#tt.to_csv(tt.csv)\n",
    "#frame = pd.DataFrame(d, index=[1])\n",
    "#frame.to_csv('abdulbaqqi_personal_information.csv')\n",
    "#print(tt)\n",
    "\n",
    "frame = pd.DataFrame(d, columns=['Degree of Program', 'Program Name', 'Name of School', 'Year of Admission', 'Year of Graduation'],index=['Background 1'] )\n",
    "frame.to_csv('abdulbaqqi_educational_background.csv')\n",
    "print(frame)\n"
   ]
  },
  {
   "cell_type": "code",
   "execution_count": null,
   "metadata": {
    "collapsed": true
   },
   "outputs": [],
   "source": []
  }
 ],
 "metadata": {
  "kernelspec": {
   "display_name": "Python 3",
   "language": "python",
   "name": "python3"
  },
  "language_info": {
   "codemirror_mode": {
    "name": "ipython",
    "version": 3
   },
   "file_extension": ".py",
   "mimetype": "text/x-python",
   "name": "python",
   "nbconvert_exporter": "python",
   "pygments_lexer": "ipython3",
   "version": "3.6.3"
  }
 },
 "nbformat": 4,
 "nbformat_minor": 2
}
