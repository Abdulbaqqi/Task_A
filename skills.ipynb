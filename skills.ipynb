{
 "cells": [
  {
   "cell_type": "code",
   "execution_count": 1,
   "metadata": {
    "collapsed": true
   },
   "outputs": [],
   "source": [
    "import numpy as np\n",
    "import pandas as pd\n",
    "from pandas import Series, DataFrame"
   ]
  },
  {
   "cell_type": "code",
   "execution_count": 19,
   "metadata": {},
   "outputs": [
    {
     "name": "stdout",
     "output_type": "stream",
     "text": [
      "\n",
      "\n",
      "SKILL\n",
      "              Skills\n",
      "1         python IOT\n",
      "2  graphics designer\n",
      "3    video animation\n",
      "4       video editor\n"
     ]
    }
   ],
   "source": [
    "d={}\n",
    "print(\"\\n\\nSKILL\")\n",
    "#skills = list(input(\"Skills: (use ',' to seperate the skill from another):\\n\").split(\", \"))\n",
    "d['Skills'] = skills\n",
    "frame = pd.DataFrame(d, columns=['Skills'], index=[1, 2,3,4] )\n",
    "frame.to_csv('abdulbaqqi_skills.csv')\n",
    "print(frame)"
   ]
  },
  {
   "cell_type": "code",
   "execution_count": null,
   "metadata": {
    "collapsed": true
   },
   "outputs": [],
   "source": []
  }
 ],
 "metadata": {
  "kernelspec": {
   "display_name": "Python 3",
   "language": "python",
   "name": "python3"
  },
  "language_info": {
   "codemirror_mode": {
    "name": "ipython",
    "version": 3
   },
   "file_extension": ".py",
   "mimetype": "text/x-python",
   "name": "python",
   "nbconvert_exporter": "python",
   "pygments_lexer": "ipython3",
   "version": "3.6.3"
  }
 },
 "nbformat": 4,
 "nbformat_minor": 2
}
